{
 "cells": [
  {
   "cell_type": "markdown",
   "metadata": {},
   "source": [
    "# Imports"
   ]
  },
  {
   "cell_type": "code",
   "execution_count": null,
   "metadata": {},
   "outputs": [],
   "source": [
    "import pandas as pd\n",
    "import json"
   ]
  },
  {
   "cell_type": "markdown",
   "metadata": {},
   "source": [
    "# Clean"
   ]
  },
  {
   "cell_type": "code",
   "execution_count": null,
   "metadata": {},
   "outputs": [],
   "source": [
    "df = pd.read_json('devices.json')\n",
    "\n",
    "df = df.sort_values(by=['name'], key=lambda x: x.str.lower())\n",
    "\n",
    "df = df.reset_index().drop(columns=['index'])\n",
    "\n",
    "df = df[['name', 'id', 'key', 'mac']]\n",
    "\n",
    "df['mac'] = df['mac'].str.upper()\n",
    "\n",
    "df.head()"
   ]
  },
  {
   "cell_type": "markdown",
   "metadata": {},
   "source": [
    "# Export to `json` file"
   ]
  },
  {
   "cell_type": "code",
   "execution_count": null,
   "metadata": {},
   "outputs": [],
   "source": [
    "filename = \"tuya-devices\"\n",
    "\n",
    "def export_df_to_json(df_filtered, tag=None):\n",
    "    with open(filename + '.json', 'w') as json_file:\n",
    "        json.dump(json.loads(df_filtered.to_json(orient='records')), json_file, indent=4)\n",
    "        print('\\\"' + filename + '.json' + '\\\"' + ' created or customized!')\n",
    "\n",
    "export_df_to_json(df)\n",
    "print(str(len(df)) + ' devices found!')"
   ]
  }
 ],
 "metadata": {
  "kernelspec": {
   "display_name": "Python 3 (ipykernel)",
   "language": "python",
   "name": "python3"
  }
 },
 "nbformat": 4,
 "nbformat_minor": 2
}
